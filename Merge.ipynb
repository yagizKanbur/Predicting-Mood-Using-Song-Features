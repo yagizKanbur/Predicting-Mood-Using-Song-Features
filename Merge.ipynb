{
  "nbformat": 4,
  "nbformat_minor": 0,
  "metadata": {
    "colab": {
      "name": "Merge.ipynb",
      "provenance": [],
      "mount_file_id": "17y1H-DxdajjIgt5pOu1A1jB2ijjVA0Wn",
      "authorship_tag": "ABX9TyM3pEzz+SlnH6b3cFKcB3D/",
      "include_colab_link": true
    },
    "kernelspec": {
      "name": "python3",
      "display_name": "Python 3"
    }
  },
  "cells": [
    {
      "cell_type": "markdown",
      "metadata": {
        "id": "view-in-github",
        "colab_type": "text"
      },
      "source": [
        "<a href=\"https://colab.research.google.com/github/yagizKanbur/Predicting-Mood-Using-Song-Features/blob/master/Merge.ipynb\" target=\"_parent\"><img src=\"https://colab.research.google.com/assets/colab-badge.svg\" alt=\"Open In Colab\"/></a>"
      ]
    },
    {
      "cell_type": "code",
      "metadata": {
        "id": "1Lcq08f1N6kK"
      },
      "source": [
        "import pandas as pd\n",
        "import numpy as np\n",
        "import matplotlib.pyplot as plt"
      ],
      "execution_count": null,
      "outputs": []
    },
    {
      "cell_type": "code",
      "metadata": {
        "id": "OlkEPSLwOion"
      },
      "source": [
        "merged = pd.read_csv('drive/MyDrive/Audio Features/2.csv')\n",
        "for i in range(3,2001):\n",
        "  try:\n",
        "    number = str(i)\n",
        "    data = pd.read_csv('drive/MyDrive/Audio Features/'+number+'.csv')\n",
        "    merged = merged.append(data)\n",
        "    print(\"Succes\")\n",
        "    merged.to_csv(\"Audio.csv\", index = False)\n",
        "   \n",
        "  except:\n",
        "    print(\"not found\")"
      ],
      "execution_count": null,
      "outputs": []
    }
  ]
}