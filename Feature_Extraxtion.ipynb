{
  "nbformat": 4,
  "nbformat_minor": 0,
  "metadata": {
    "colab": {
      "name": "Feature Extraxtion.ipynb",
      "provenance": [],
      "collapsed_sections": [],
      "include_colab_link": true
    },
    "kernelspec": {
      "name": "python3",
      "display_name": "Python 3"
    }
  },
  "cells": [
    {
      "cell_type": "markdown",
      "metadata": {
        "id": "view-in-github",
        "colab_type": "text"
      },
      "source": [
        "<a href=\"https://colab.research.google.com/github/yagizKanbur/Predicting-Mood-Using-Song-Features/blob/master/Feature_Extraxtion.ipynb\" target=\"_parent\"><img src=\"https://colab.research.google.com/assets/colab-badge.svg\" alt=\"Open In Colab\"/></a>"
      ]
    },
    {
      "cell_type": "code",
      "metadata": {
        "id": "XUsQeb3L-fNO"
      },
      "source": [
        "import pandas as pd\n",
        "import numpy as np\n",
        "import matplotlib.pyplot as plt\n",
        "import pyAudioAnalysis as pa\n",
        "import librosa as lb\n",
        "from pydub import AudioSegment\n",
        "from scipy.io import wavfile\n",
        "from pyAudioAnalysis import ShortTermFeatures\n",
        "from pyAudioAnalysis import MidTermFeatures\n",
        "from pyAudioAnalysis import audioBasicIO\n",
        "from pyAudioAnalysis import convertToWav\n"
      ],
      "execution_count": null,
      "outputs": []
    },
    {
      "cell_type": "code",
      "metadata": {
        "id": "tOi8MurvI77b"
      },
      "source": [
        ""
      ],
      "execution_count": null,
      "outputs": []
    },
    {
      "cell_type": "code",
      "metadata": {
        "id": "zcmNyknyBWSo"
      },
      "source": [
        "pip install eyed3"
      ],
      "execution_count": null,
      "outputs": []
    },
    {
      "cell_type": "markdown",
      "metadata": {
        "id": "anoHQ5wDE4Mb"
      },
      "source": [
        "**Feature Extraction**"
      ]
    },
    {
      "cell_type": "code",
      "metadata": {
        "colab": {
          "base_uri": "https://localhost:8080/"
        },
        "id": "1GM1XfpYNRxE",
        "outputId": "8e958c8b-9669-4056-da0d-7271c620d16a"
      },
      "source": [
        "for i in range (0,2058):\n",
        "  try:\n",
        "    number_as_string = str(i)\n",
        "    [SamplingRate, signals] = audioBasicIO.read_audio_file(\"/content/drive/MyDrive/deammuzikleri/MEMD_audio/\"+number_as_string+\".mp3\")\n",
        "    signals = audioBasicIO.stereo_to_mono(signals) \n",
        "    #mid_feature_extraction(signal, sampling_rate, mid_window, mid_step,short_window, short_step):\n",
        "    MidFeatures,ShortFeatures,MidFeatureLabels=MidTermFeatures.mid_feature_extraction(signals, SamplingRate, 45*SamplingRate, 45*SamplingRate,0.5*SamplingRate, 0.5*SamplingRate)\n",
        "    print('Mid Features Extr Success')\n",
        "    MidFeatures_Dataframe = pd.DataFrame(data=MidFeatures.transpose(), columns=MidFeatureLabels)\n",
        "    print(type(MidFeatures))\n",
        "    #print(MidFeatures)\n",
        "    print(type(ShortFeatures))\n",
        "    #print(ShortFeatures)\n",
        "    print(type(MidFeatureLabels))\n",
        "    #print(MidFeatureLabels)\n",
        "    MidFeatures_Dataframe.to_csv('/content/drive/MyDrive/deammuzikleri/features2/'+number_as_string+'.csv')\n",
        "    print('Mid Features File Success')\n",
        "  except:\n",
        "    print(\"not found\")"
      ],
      "execution_count": null,
      "outputs": [
        {
          "output_type": "stream",
          "text": [
            "Mid Features Extr Success\n",
            "<class 'numpy.ndarray'>\n",
            "<class 'numpy.ndarray'>\n",
            "<class 'list'>\n",
            "Mid Features File Success\n"
          ],
          "name": "stdout"
        }
      ]
    },
    {
      "cell_type": "code",
      "metadata": {
        "id": "w4HKNXxdamqd"
      },
      "source": [
        "from google.colab import drive\n",
        "drive.mount('/content/drive')"
      ],
      "execution_count": null,
      "outputs": []
    }
  ]
}