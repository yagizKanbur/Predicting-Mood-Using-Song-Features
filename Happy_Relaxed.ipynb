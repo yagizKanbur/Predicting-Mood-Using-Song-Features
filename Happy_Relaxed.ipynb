{
  "nbformat": 4,
  "nbformat_minor": 0,
  "metadata": {
    "colab": {
      "name": "Happy-Relaxed.ipynb",
      "provenance": [],
      "include_colab_link": true
    },
    "kernelspec": {
      "display_name": "Python 3",
      "name": "python3"
    }
  },
  "cells": [
    {
      "cell_type": "markdown",
      "metadata": {
        "id": "view-in-github",
        "colab_type": "text"
      },
      "source": [
        "<a href=\"https://colab.research.google.com/github/yagizKanbur/Predicting-Mood-Using-Song-Features/blob/master/Happy_Relaxed.ipynb\" target=\"_parent\"><img src=\"https://colab.research.google.com/assets/colab-badge.svg\" alt=\"Open In Colab\"/></a>"
      ]
    },
    {
      "cell_type": "markdown",
      "metadata": {
        "id": "BJVANoIIkFXW"
      },
      "source": [
        "**1.Introduction to SVM**"
      ]
    },
    {
      "cell_type": "markdown",
      "metadata": {
        "id": "uide_gc_m69g"
      },
      "source": [
        "info"
      ]
    },
    {
      "cell_type": "code",
      "metadata": {
        "id": "uEiNBN7vsw1v",
        "colab": {
          "base_uri": "https://localhost:8080/"
        },
        "outputId": "44e7b082-0fc9-4e71-d0c5-da7ac4464ede"
      },
      "source": [
        "import pandas as pd\n",
        "import numpy as np\n",
        "import matplotlib.pyplot as plt\n",
        "import statsmodels.api as sm\n",
        "from sklearn.model_selection import train_test_split\n",
        "from sklearn.preprocessing import StandardScaler\n",
        "from sklearn.model_selection import cross_val_score\n",
        "from sklearn import metrics\n",
        "from sklearn.pipeline import make_pipeline\n",
        "from imblearn.pipeline import make_pipeline as make_pipeline_imb\n",
        "from imblearn.over_sampling import SMOTE, SVMSMOTE"
      ],
      "execution_count": null,
      "outputs": [
        {
          "output_type": "stream",
          "text": [
            "/usr/local/lib/python3.6/dist-packages/statsmodels/tools/_testing.py:19: FutureWarning: pandas.util.testing is deprecated. Use the functions in the public API at pandas.testing instead.\n",
            "  import pandas.util.testing as tm\n",
            "/usr/local/lib/python3.6/dist-packages/sklearn/externals/six.py:31: FutureWarning: The module is deprecated in version 0.21 and will be removed in version 0.23 since we've dropped support for Python 2.7. Please rely on the official version of six (https://pypi.org/project/six/).\n",
            "  \"(https://pypi.org/project/six/).\", FutureWarning)\n",
            "/usr/local/lib/python3.6/dist-packages/sklearn/utils/deprecation.py:144: FutureWarning: The sklearn.neighbors.base module is  deprecated in version 0.22 and will be removed in version 0.24. The corresponding classes / functions should instead be imported from sklearn.neighbors. Anything that cannot be imported from sklearn.neighbors is now part of the private API.\n",
            "  warnings.warn(message, FutureWarning)\n"
          ],
          "name": "stderr"
        }
      ]
    },
    {
      "cell_type": "markdown",
      "metadata": {
        "id": "Bu1CbOzGuG1h"
      },
      "source": [
        "**Making Labels**"
      ]
    },
    {
      "cell_type": "code",
      "metadata": {
        "id": "rvXMhoTbueWC",
        "colab": {
          "base_uri": "https://localhost:8080/"
        },
        "outputId": "97bd8044-aaa7-47d9-e361-9f74ce90fd5c"
      },
      "source": [
        "data = pd.read_csv('deam/static_annotations_averaged_songs_1_2000.csv')\n",
        "\n",
        "valenceMean = data[[' valence_mean']]\n",
        "arousalMean = data[[' arousal_mean']]\n",
        "valence = np.asarray(valenceMean)\n",
        "arousal = np.asarray(arousalMean)\n",
        "data[\"label\"] = \"\"\n",
        "\n",
        "for i in range(0,len(valence)):\n",
        "  if arousal[i] > 4.5 and valence[i] > 4.5:\n",
        "    data[\"label\"][i] = \"1\"\n",
        "    #data[\"label\"][i] = \"Happy\"\n",
        "  elif arousal[i] <= 4.5 and valence[i] > 4.5:\n",
        "    data[\"label\"][i] = \"1\"#Relaxed\n",
        "    #data[\"label\"][i] = \"Relaxed\"\n",
        "  elif arousal[i] <= 4.5 and valence[i] <= 4.5:\n",
        "    data[\"label\"][i] = \"0\"#Sad\n",
        "    #data[\"label\"][i] = \"Sad\"\n",
        "  else: \n",
        "    data[\"label\"][i] = \"0\"#Annoyed\n",
        "    #data[\"label\"][i] = \"Annoyed\"\n",
        "\n",
        "\n",
        "data.to_csv(\"deam/static_annotations_averaged_songs_1_2000.csv\", index=False)\n",
        "\n",
        "\n",
        "\n",
        "\n",
        "\n"
      ],
      "execution_count": null,
      "outputs": [
        {
          "output_type": "stream",
          "text": [
            "/usr/local/lib/python3.6/dist-packages/ipykernel_launcher.py:17: SettingWithCopyWarning: \n",
            "A value is trying to be set on a copy of a slice from a DataFrame\n",
            "\n",
            "See the caveats in the documentation: https://pandas.pydata.org/pandas-docs/stable/user_guide/indexing.html#returning-a-view-versus-a-copy\n",
            "/usr/local/lib/python3.6/dist-packages/ipykernel_launcher.py:11: SettingWithCopyWarning: \n",
            "A value is trying to be set on a copy of a slice from a DataFrame\n",
            "\n",
            "See the caveats in the documentation: https://pandas.pydata.org/pandas-docs/stable/user_guide/indexing.html#returning-a-view-versus-a-copy\n",
            "  # This is added back by InteractiveShellApp.init_path()\n",
            "/usr/local/lib/python3.6/dist-packages/ipykernel_launcher.py:20: SettingWithCopyWarning: \n",
            "A value is trying to be set on a copy of a slice from a DataFrame\n",
            "\n",
            "See the caveats in the documentation: https://pandas.pydata.org/pandas-docs/stable/user_guide/indexing.html#returning-a-view-versus-a-copy\n",
            "/usr/local/lib/python3.6/dist-packages/ipykernel_launcher.py:14: SettingWithCopyWarning: \n",
            "A value is trying to be set on a copy of a slice from a DataFrame\n",
            "\n",
            "See the caveats in the documentation: https://pandas.pydata.org/pandas-docs/stable/user_guide/indexing.html#returning-a-view-versus-a-copy\n",
            "  \n"
          ],
          "name": "stderr"
        }
      ]
    },
    {
      "cell_type": "code",
      "metadata": {
        "id": "t_w149PQM5BR",
        "colab": {
          "base_uri": "https://localhost:8080/"
        },
        "outputId": "49691c09-66ea-421e-9348-a131ceb51bad"
      },
      "source": [
        "data = pd.read_csv('deam/static_annotations_averaged_songs_2000_2058.csv')\n",
        "\n",
        "valenceMean = data[[' valence_mean']]\n",
        "arousalMean = data[[' arousal_mean']]\n",
        "valence = np.asarray(valenceMean)\n",
        "arousal = np.asarray(arousalMean)\n",
        "data[\"label\"] = \"\"\n",
        "\n",
        "\n",
        "for i in range(0,len(valence)):\n",
        "  if arousal[i] > 4.5 and valence[i] > 4.5:\n",
        "    data[\"label\"][i] = \"1\"\n",
        "    #data[\"label\"][i] = \"Happy\"\n",
        "  elif arousal[i] <= 4.5 and valence[i] > 4.5:\n",
        "    data[\"label\"][i] = \"1\"\n",
        "    #data[\"label\"][i] = \"Relaxed\"\n",
        "  elif arousal[i] <= 4.5 and valence[i] <= 4.5:\n",
        "    data[\"label\"][i] = \"0\"\n",
        "    #data[\"label\"][i] = \"Sad\"\n",
        "  else: \n",
        "    data[\"label\"][i] = \"0\"\n",
        "    #data[\"label\"][i] = \"Annoyed\"\n",
        "\n",
        "\n",
        "\n",
        "data.to_csv(\"deam/static_annotations_averaged_songs_2000_2058.csv\", index=False)"
      ],
      "execution_count": null,
      "outputs": [
        {
          "output_type": "stream",
          "text": [
            "/usr/local/lib/python3.6/dist-packages/ipykernel_launcher.py:21: SettingWithCopyWarning: \n",
            "A value is trying to be set on a copy of a slice from a DataFrame\n",
            "\n",
            "See the caveats in the documentation: https://pandas.pydata.org/pandas-docs/stable/user_guide/indexing.html#returning-a-view-versus-a-copy\n",
            "/usr/local/lib/python3.6/dist-packages/ipykernel_launcher.py:12: SettingWithCopyWarning: \n",
            "A value is trying to be set on a copy of a slice from a DataFrame\n",
            "\n",
            "See the caveats in the documentation: https://pandas.pydata.org/pandas-docs/stable/user_guide/indexing.html#returning-a-view-versus-a-copy\n",
            "  if sys.path[0] == '':\n",
            "/usr/local/lib/python3.6/dist-packages/ipykernel_launcher.py:15: SettingWithCopyWarning: \n",
            "A value is trying to be set on a copy of a slice from a DataFrame\n",
            "\n",
            "See the caveats in the documentation: https://pandas.pydata.org/pandas-docs/stable/user_guide/indexing.html#returning-a-view-versus-a-copy\n",
            "  from ipykernel import kernelapp as app\n",
            "/usr/local/lib/python3.6/dist-packages/ipykernel_launcher.py:18: SettingWithCopyWarning: \n",
            "A value is trying to be set on a copy of a slice from a DataFrame\n",
            "\n",
            "See the caveats in the documentation: https://pandas.pydata.org/pandas-docs/stable/user_guide/indexing.html#returning-a-view-versus-a-copy\n"
          ],
          "name": "stderr"
        }
      ]
    },
    {
      "cell_type": "markdown",
      "metadata": {
        "id": "JzOnn3rQ_IZv"
      },
      "source": [
        "**Extracted Features**"
      ]
    },
    {
      "cell_type": "code",
      "metadata": {
        "colab": {
          "base_uri": "https://localhost:8080/"
        },
        "id": "ZcBMeBuW_ERT",
        "outputId": "92b349f9-381c-4cfa-9358-49913665d61d"
      },
      "source": [
        "ef = pd.read_csv('deam/Audio Features.csv')\n",
        "\n",
        "data = pd.read_csv('deam/static_annotations_averaged_songs_1_2000.csv')\n",
        "arousalLabel = data[[ 'label']]\n",
        "aL = np.asarray(arousalLabel)\n",
        "\n",
        "lateData =pd.read_csv('deam/static_annotations_averaged_songs_2000_2058.csv')\n",
        "lateLabel = lateData[[ 'label']]\n",
        "lL = np.asarray(lateLabel)\n",
        "\n",
        "ef[\"Label\"] = \"\"\n",
        "\n",
        "Label =  np.concatenate((aL, lL))\n",
        "\n",
        "for i in range (0,1746):\n",
        "  ef[\"Label\"][i] = Label[i][0]\n",
        "\n",
        "ef.to_csv(\"deam/featureTrain.csv\", index=False)"
      ],
      "execution_count": null,
      "outputs": [
        {
          "output_type": "stream",
          "text": [
            "/usr/local/lib/python3.6/dist-packages/ipykernel_launcher.py:16: SettingWithCopyWarning: \n",
            "A value is trying to be set on a copy of a slice from a DataFrame\n",
            "\n",
            "See the caveats in the documentation: https://pandas.pydata.org/pandas-docs/stable/user_guide/indexing.html#returning-a-view-versus-a-copy\n",
            "  app.launch_new_instance()\n"
          ],
          "name": "stderr"
        }
      ]
    },
    {
      "cell_type": "code",
      "metadata": {
        "id": "wLMPg7HgBfIS"
      },
      "source": [
        "data = pd.read_csv('bestFeatures.csv')\n",
        "column = np.asarray(data)\n",
        "print(len(column[0]))\n",
        "print(len(column))"
      ],
      "execution_count": null,
      "outputs": []
    },
    {
      "cell_type": "markdown",
      "metadata": {
        "id": "Aqt0KeqHm9D7"
      },
      "source": [
        "**Feature Selection**"
      ]
    },
    {
      "cell_type": "code",
      "metadata": {
        "id": "pcQjk1qrm_3X",
        "colab": {
          "base_uri": "https://localhost:8080/",
          "height": 478
        },
        "outputId": "c2983b37-09d4-464e-f3f2-e054fa396b16"
      },
      "source": [
        "import pandas as pd\n",
        "import numpy as np\n",
        "names = [\"un\",\"zcr_mean\",\"energy_mean\",\"energy_entropy_mean\",\"spectral_centroid_mean\",\"spectral_spread_mean\",\"spectral_entropy_mean\",\"spectral_flux_mean\",\"spectral_rolloff_mean\",\"mfcc_1_mean\",\"mfcc_2_mean\",\"mfcc_3_mean\",\"mfcc_4_mean\",\"mfcc_5_mean\",\"mfcc_6_mean\",\"mfcc_7_mean\",\"mfcc_8_mean\",\"mfcc_9_mean\",\"mfcc_10_mean\",\"mfcc_11_mean\",\"mfcc_12_mean\",\"mfcc_13_mean\",\"chroma_1_mean\",\"chroma_2_mean\",\"chroma_3_mean\",\"chroma_4_mean\",\"chroma_5_mean\",\"chroma_6_mean\",\"chroma_7_mean\",\"chroma_8_mean\",\"chroma_9_mean\",\"chroma_10_mean\",\"chroma_11_mean\",\"chroma_12_mean\",\"chroma_std_mean\",\"delta zcr_mean\",\"delta energy_mean\",\"delta energy_entropy_mean\",\"delta spectral_centroid_mean\",\"delta spectral_spread_mean\",\"delta spectral_entropy_mean\",\"delta spectral_flux_mean\",\"delta spectral_rolloff_mean\",\"delta mfcc_1_mean\",\"delta mfcc_2_mean\",\"delta mfcc_3_mean\",\"delta mfcc_4_mean\",\"delta mfcc_5_mean\",\"delta mfcc_6_mean\",\"delta mfcc_7_mean\",\"delta mfcc_8_mean\",\"delta mfcc_9_mean\",\"delta mfcc_10_mean\",\"delta mfcc_11_mean\",\"delta mfcc_12_mean\",\"delta mfcc_13_mean\",\"delta chroma_1_mean\",\"delta chroma_2_mean\",\"delta chroma_3_mean\",\"delta chroma_4_mean\",\"delta chroma_5_mean\",\"delta chroma_6_mean\",\"delta chroma_7_mean\",\"delta chroma_8_mean\",\"delta chroma_9_mean\",\"delta chroma_10_mean\",\"delta chroma_11_mean\",\"delta chroma_12_mean\",\"delta chroma_std_mean\",\"zcr_std\",\"energy_std\",\"energy_entropy_std\",\"spectral_centroid_std\",\"spectral_spread_std\",\"spectral_entropy_std\",\"spectral_flux_std\",\"spectral_rolloff_std\",\"mfcc_1_std\",\"mfcc_2_std\",\"mfcc_3_std\",\"mfcc_4_std\",\"mfcc_5_std\",\"mfcc_6_std\",\"mfcc_7_std\",\"mfcc_8_std\",\"mfcc_9_std\",\"mfcc_10_std\",\"mfcc_11_std\",\"mfcc_12_std\",\"mfcc_13_std\",\"chroma_1_std\",\"chroma_2_std\",\"chroma_3_std\",\"chroma_4_std\",\"chroma_5_std\",\"chroma_6_std\",\"chroma_7_std\",\"chroma_8_std\",\"chroma_9_std\",\"chroma_10_std\",\"chroma_11_std\",\"chroma_12_std\",\"chroma_std_std\",\"delta zcr_std\",\"delta energy_std\",\"delta energy_entropy_std\",\"delta spectral_centroid_std\",\"delta spectral_spread_std\",\"delta spectral_entropy_std\",\"delta spectral_flux_std\",\"delta spectral_rolloff_std\",\"delta mfcc_1_std\",\"delta mfcc_2_std\",\"delta mfcc_3_std\",\"delta mfcc_4_std\",\"delta mfcc_5_std\",\"delta mfcc_6_std\",\"delta mfcc_7_std\",\"delta mfcc_8_std\",\"delta mfcc_9_std\",\"delta mfcc_10_std\",\"delta mfcc_11_std\",\"delta mfcc_12_std\",\"delta mfcc_13_std\",\"delta chroma_1_std\",\"delta chroma_2_std\",\"delta chroma_3_std\",\"delta chroma_4_std\",\"delta chroma_5_std\",\"delta chroma_6_std\",\"delta chroma_7_std\",\"delta chroma_8_std\",\"delta chroma_9_std\",\"delta chroma_10_std\",\"delta chroma_11_std\",\"delta chroma_12_std\",\"delta chroma_std_std\",\"Label\"]\n",
        "df_features = pd.read_csv('featureSelection.csv', names = names)\n",
        "df_features.drop(\"un\", axis=1)\n",
        "df_features.head()\n",
        "\n",
        "X = df_features[[\"zcr_mean\",\"energy_mean\",\"energy_entropy_mean\",\"spectral_centroid_mean\",\"spectral_spread_mean\",\"spectral_entropy_mean\",\"spectral_flux_mean\",\"spectral_rolloff_mean\",\"mfcc_1_mean\",\"mfcc_2_mean\",\"mfcc_3_mean\",\"mfcc_4_mean\",\"mfcc_5_mean\",\"mfcc_6_mean\",\"mfcc_7_mean\",\"mfcc_8_mean\",\"mfcc_9_mean\",\"mfcc_10_mean\",\"mfcc_11_mean\",\"mfcc_12_mean\",\"mfcc_13_mean\",\"chroma_1_mean\",\"chroma_2_mean\",\"chroma_3_mean\",\"chroma_4_mean\",\"chroma_5_mean\",\"chroma_6_mean\",\"chroma_7_mean\",\"chroma_8_mean\",\"chroma_9_mean\",\"chroma_10_mean\",\"chroma_11_mean\",\"chroma_12_mean\",\"chroma_std_mean\",\"delta zcr_mean\",\"delta energy_mean\",\"delta energy_entropy_mean\",\"delta spectral_centroid_mean\",\"delta spectral_spread_mean\",\"delta spectral_entropy_mean\",\"delta spectral_flux_mean\",\"delta spectral_rolloff_mean\",\"delta mfcc_1_mean\",\"delta mfcc_2_mean\",\"delta mfcc_3_mean\",\"delta mfcc_4_mean\",\"delta mfcc_5_mean\",\"delta mfcc_6_mean\",\"delta mfcc_7_mean\",\"delta mfcc_8_mean\",\"delta mfcc_9_mean\",\"delta mfcc_10_mean\",\"delta mfcc_11_mean\",\"delta mfcc_12_mean\",\"delta mfcc_13_mean\",\"delta chroma_1_mean\",\"delta chroma_2_mean\",\"delta chroma_3_mean\",\"delta chroma_4_mean\",\"delta chroma_5_mean\",\"delta chroma_6_mean\",\"delta chroma_7_mean\",\"delta chroma_8_mean\",\"delta chroma_9_mean\",\"delta chroma_10_mean\",\"delta chroma_11_mean\",\"delta chroma_12_mean\",\"delta chroma_std_mean\",\"zcr_std\",\"energy_std\",\"energy_entropy_std\",\"spectral_centroid_std\",\"spectral_spread_std\",\"spectral_entropy_std\",\"spectral_flux_std\",\"spectral_rolloff_std\",\"mfcc_1_std\",\"mfcc_2_std\",\"mfcc_3_std\",\"mfcc_4_std\",\"mfcc_5_std\",\"mfcc_6_std\",\"mfcc_7_std\",\"mfcc_8_std\",\"mfcc_9_std\",\"mfcc_10_std\",\"mfcc_11_std\",\"mfcc_12_std\",\"mfcc_13_std\",\"chroma_1_std\",\"chroma_2_std\",\"chroma_3_std\",\"chroma_4_std\",\"chroma_5_std\",\"chroma_6_std\",\"chroma_7_std\",\"chroma_8_std\",\"chroma_9_std\",\"chroma_10_std\",\"chroma_11_std\",\"chroma_12_std\",\"chroma_std_std\",\"delta zcr_std\",\"delta energy_std\",\"delta energy_entropy_std\",\"delta spectral_centroid_std\",\"delta spectral_spread_std\",\"delta spectral_entropy_std\",\"delta spectral_flux_std\",\"delta spectral_rolloff_std\",\"delta mfcc_1_std\",\"delta mfcc_2_std\",\"delta mfcc_3_std\",\"delta mfcc_4_std\",\"delta mfcc_5_std\",\"delta mfcc_6_std\",\"delta mfcc_7_std\",\"delta mfcc_8_std\",\"delta mfcc_9_std\",\"delta mfcc_10_std\",\"delta mfcc_11_std\",\"delta mfcc_12_std\",\"delta mfcc_13_std\",\"delta chroma_1_std\",\"delta chroma_2_std\",\"delta chroma_3_std\",\"delta chroma_4_std\",\"delta chroma_5_std\",\"delta chroma_6_std\",\"delta chroma_7_std\",\"delta chroma_8_std\",\"delta chroma_9_std\",\"delta chroma_10_std\",\"delta chroma_11_std\",\"delta chroma_12_std\",\"delta chroma_std_std\"]]\n",
        "Y = df_features[[\"Label\"]]\n",
        "\n",
        "X_train = np.asarray(X)\n",
        "\n",
        "from mlxtend.feature_selection import SequentialFeatureSelector as sfs\n",
        "from sklearn.ensemble import RandomForestClassifier\n",
        "\n",
        "# Estimator\n",
        "estimator = RandomForestClassifier(n_estimators=10, n_jobs=4)\n",
        "# Step Forward Feature Selector\n",
        "StepBackward = sfs(estimator,k_features=\"best\",forward=False,floating=False,verbose=2,scoring='accuracy',cv=5)\n",
        "StepBackward.fit(X_train,Y.values.ravel())\n",
        "\n",
        "StepBackward.subsets_\n",
        "StepBackward.k_feature_names_\n",
        "StepBackward.k_score_"
      ],
      "execution_count": null,
      "outputs": [
        {
          "output_type": "error",
          "ename": "FileNotFoundError",
          "evalue": "ignored",
          "traceback": [
            "\u001b[0;31m---------------------------------------------------------------------------\u001b[0m",
            "\u001b[0;31mFileNotFoundError\u001b[0m                         Traceback (most recent call last)",
            "\u001b[0;32m<ipython-input-93-e0b9466839e2>\u001b[0m in \u001b[0;36m<module>\u001b[0;34m()\u001b[0m\n\u001b[1;32m      2\u001b[0m \u001b[0;32mimport\u001b[0m \u001b[0mnumpy\u001b[0m \u001b[0;32mas\u001b[0m \u001b[0mnp\u001b[0m\u001b[0;34m\u001b[0m\u001b[0;34m\u001b[0m\u001b[0m\n\u001b[1;32m      3\u001b[0m \u001b[0mnames\u001b[0m \u001b[0;34m=\u001b[0m \u001b[0;34m[\u001b[0m\u001b[0;34m\"un\"\u001b[0m\u001b[0;34m,\u001b[0m\u001b[0;34m\"zcr_mean\"\u001b[0m\u001b[0;34m,\u001b[0m\u001b[0;34m\"energy_mean\"\u001b[0m\u001b[0;34m,\u001b[0m\u001b[0;34m\"energy_entropy_mean\"\u001b[0m\u001b[0;34m,\u001b[0m\u001b[0;34m\"spectral_centroid_mean\"\u001b[0m\u001b[0;34m,\u001b[0m\u001b[0;34m\"spectral_spread_mean\"\u001b[0m\u001b[0;34m,\u001b[0m\u001b[0;34m\"spectral_entropy_mean\"\u001b[0m\u001b[0;34m,\u001b[0m\u001b[0;34m\"spectral_flux_mean\"\u001b[0m\u001b[0;34m,\u001b[0m\u001b[0;34m\"spectral_rolloff_mean\"\u001b[0m\u001b[0;34m,\u001b[0m\u001b[0;34m\"mfcc_1_mean\"\u001b[0m\u001b[0;34m,\u001b[0m\u001b[0;34m\"mfcc_2_mean\"\u001b[0m\u001b[0;34m,\u001b[0m\u001b[0;34m\"mfcc_3_mean\"\u001b[0m\u001b[0;34m,\u001b[0m\u001b[0;34m\"mfcc_4_mean\"\u001b[0m\u001b[0;34m,\u001b[0m\u001b[0;34m\"mfcc_5_mean\"\u001b[0m\u001b[0;34m,\u001b[0m\u001b[0;34m\"mfcc_6_mean\"\u001b[0m\u001b[0;34m,\u001b[0m\u001b[0;34m\"mfcc_7_mean\"\u001b[0m\u001b[0;34m,\u001b[0m\u001b[0;34m\"mfcc_8_mean\"\u001b[0m\u001b[0;34m,\u001b[0m\u001b[0;34m\"mfcc_9_mean\"\u001b[0m\u001b[0;34m,\u001b[0m\u001b[0;34m\"mfcc_10_mean\"\u001b[0m\u001b[0;34m,\u001b[0m\u001b[0;34m\"mfcc_11_mean\"\u001b[0m\u001b[0;34m,\u001b[0m\u001b[0;34m\"mfcc_12_mean\"\u001b[0m\u001b[0;34m,\u001b[0m\u001b[0;34m\"mfcc_13_mean\"\u001b[0m\u001b[0;34m,\u001b[0m\u001b[0;34m\"chroma_1_mean\"\u001b[0m\u001b[0;34m,\u001b[0m\u001b[0;34m\"chroma_2_mean\"\u001b[0m\u001b[0;34m,\u001b[0m\u001b[0;34m\"chroma_3_mean\"\u001b[0m\u001b[0;34m,\u001b[0m\u001b[0;34m\"chroma_4_mean\"\u001b[0m\u001b[0;34m,\u001b[0m\u001b[0;34m\"chroma_5_mean\"\u001b[0m\u001b[0;34m,\u001b[0m\u001b[0;34m\"chroma_6_mean\"\u001b[0m\u001b[0;34m,\u001b[0m\u001b[0;34m\"chroma_7_mean\"\u001b[0m\u001b[0;34m,\u001b[0m\u001b[0;34m\"chroma_8_mean\"\u001b[0m\u001b[0;34m,\u001b[0m\u001b[0;34m\"chroma_9_mean\"\u001b[0m\u001b[0;34m,\u001b[0m\u001b[0;34m\"chroma_10_mean\"\u001b[0m\u001b[0;34m,\u001b[0m\u001b[0;34m\"chroma_11_mean\"\u001b[0m\u001b[0;34m,\u001b[0m\u001b[0;34m\"chroma_12_mean\"\u001b[0m\u001b[0;34m,\u001b[0m\u001b[0;34m\"chroma_std_mean\"\u001b[0m\u001b[0;34m,\u001b[0m\u001b[0;34m\"delta zcr_mean\"\u001b[0m\u001b[0;34m,\u001b[0m\u001b[0;34m\"delta energy_mean\"\u001b[0m\u001b[0;34m,\u001b[0m\u001b[0;34m\"delta energy...\n\u001b[0;32m----> 4\u001b[0;31m \u001b[0mdf_features\u001b[0m \u001b[0;34m=\u001b[0m \u001b[0mpd\u001b[0m\u001b[0;34m.\u001b[0m\u001b[0mread_csv\u001b[0m\u001b[0;34m(\u001b[0m\u001b[0;34m'featureSelection.csv'\u001b[0m\u001b[0;34m,\u001b[0m \u001b[0mnames\u001b[0m \u001b[0;34m=\u001b[0m \u001b[0mnames\u001b[0m\u001b[0;34m)\u001b[0m\u001b[0;34m\u001b[0m\u001b[0;34m\u001b[0m\u001b[0m\n\u001b[0m\u001b[1;32m      5\u001b[0m \u001b[0mdf_features\u001b[0m\u001b[0;34m.\u001b[0m\u001b[0mdrop\u001b[0m\u001b[0;34m(\u001b[0m\u001b[0;34m\"un\"\u001b[0m\u001b[0;34m,\u001b[0m \u001b[0maxis\u001b[0m\u001b[0;34m=\u001b[0m\u001b[0;36m1\u001b[0m\u001b[0;34m)\u001b[0m\u001b[0;34m\u001b[0m\u001b[0;34m\u001b[0m\u001b[0m\n\u001b[1;32m      6\u001b[0m \u001b[0mdf_features\u001b[0m\u001b[0;34m.\u001b[0m\u001b[0mhead\u001b[0m\u001b[0;34m(\u001b[0m\u001b[0;34m)\u001b[0m\u001b[0;34m\u001b[0m\u001b[0;34m\u001b[0m\u001b[0m\n",
            "\u001b[0;32m/usr/local/lib/python3.6/dist-packages/pandas/io/parsers.py\u001b[0m in \u001b[0;36mread_csv\u001b[0;34m(filepath_or_buffer, sep, delimiter, header, names, index_col, usecols, squeeze, prefix, mangle_dupe_cols, dtype, engine, converters, true_values, false_values, skipinitialspace, skiprows, skipfooter, nrows, na_values, keep_default_na, na_filter, verbose, skip_blank_lines, parse_dates, infer_datetime_format, keep_date_col, date_parser, dayfirst, cache_dates, iterator, chunksize, compression, thousands, decimal, lineterminator, quotechar, quoting, doublequote, escapechar, comment, encoding, dialect, error_bad_lines, warn_bad_lines, delim_whitespace, low_memory, memory_map, float_precision)\u001b[0m\n\u001b[1;32m    686\u001b[0m     )\n\u001b[1;32m    687\u001b[0m \u001b[0;34m\u001b[0m\u001b[0m\n\u001b[0;32m--> 688\u001b[0;31m     \u001b[0;32mreturn\u001b[0m \u001b[0m_read\u001b[0m\u001b[0;34m(\u001b[0m\u001b[0mfilepath_or_buffer\u001b[0m\u001b[0;34m,\u001b[0m \u001b[0mkwds\u001b[0m\u001b[0;34m)\u001b[0m\u001b[0;34m\u001b[0m\u001b[0;34m\u001b[0m\u001b[0m\n\u001b[0m\u001b[1;32m    689\u001b[0m \u001b[0;34m\u001b[0m\u001b[0m\n\u001b[1;32m    690\u001b[0m \u001b[0;34m\u001b[0m\u001b[0m\n",
            "\u001b[0;32m/usr/local/lib/python3.6/dist-packages/pandas/io/parsers.py\u001b[0m in \u001b[0;36m_read\u001b[0;34m(filepath_or_buffer, kwds)\u001b[0m\n\u001b[1;32m    452\u001b[0m \u001b[0;34m\u001b[0m\u001b[0m\n\u001b[1;32m    453\u001b[0m     \u001b[0;31m# Create the parser.\u001b[0m\u001b[0;34m\u001b[0m\u001b[0;34m\u001b[0m\u001b[0;34m\u001b[0m\u001b[0m\n\u001b[0;32m--> 454\u001b[0;31m     \u001b[0mparser\u001b[0m \u001b[0;34m=\u001b[0m \u001b[0mTextFileReader\u001b[0m\u001b[0;34m(\u001b[0m\u001b[0mfp_or_buf\u001b[0m\u001b[0;34m,\u001b[0m \u001b[0;34m**\u001b[0m\u001b[0mkwds\u001b[0m\u001b[0;34m)\u001b[0m\u001b[0;34m\u001b[0m\u001b[0;34m\u001b[0m\u001b[0m\n\u001b[0m\u001b[1;32m    455\u001b[0m \u001b[0;34m\u001b[0m\u001b[0m\n\u001b[1;32m    456\u001b[0m     \u001b[0;32mif\u001b[0m \u001b[0mchunksize\u001b[0m \u001b[0;32mor\u001b[0m \u001b[0miterator\u001b[0m\u001b[0;34m:\u001b[0m\u001b[0;34m\u001b[0m\u001b[0;34m\u001b[0m\u001b[0m\n",
            "\u001b[0;32m/usr/local/lib/python3.6/dist-packages/pandas/io/parsers.py\u001b[0m in \u001b[0;36m__init__\u001b[0;34m(self, f, engine, **kwds)\u001b[0m\n\u001b[1;32m    946\u001b[0m             \u001b[0mself\u001b[0m\u001b[0;34m.\u001b[0m\u001b[0moptions\u001b[0m\u001b[0;34m[\u001b[0m\u001b[0;34m\"has_index_names\"\u001b[0m\u001b[0;34m]\u001b[0m \u001b[0;34m=\u001b[0m \u001b[0mkwds\u001b[0m\u001b[0;34m[\u001b[0m\u001b[0;34m\"has_index_names\"\u001b[0m\u001b[0;34m]\u001b[0m\u001b[0;34m\u001b[0m\u001b[0;34m\u001b[0m\u001b[0m\n\u001b[1;32m    947\u001b[0m \u001b[0;34m\u001b[0m\u001b[0m\n\u001b[0;32m--> 948\u001b[0;31m         \u001b[0mself\u001b[0m\u001b[0;34m.\u001b[0m\u001b[0m_make_engine\u001b[0m\u001b[0;34m(\u001b[0m\u001b[0mself\u001b[0m\u001b[0;34m.\u001b[0m\u001b[0mengine\u001b[0m\u001b[0;34m)\u001b[0m\u001b[0;34m\u001b[0m\u001b[0;34m\u001b[0m\u001b[0m\n\u001b[0m\u001b[1;32m    949\u001b[0m \u001b[0;34m\u001b[0m\u001b[0m\n\u001b[1;32m    950\u001b[0m     \u001b[0;32mdef\u001b[0m \u001b[0mclose\u001b[0m\u001b[0;34m(\u001b[0m\u001b[0mself\u001b[0m\u001b[0;34m)\u001b[0m\u001b[0;34m:\u001b[0m\u001b[0;34m\u001b[0m\u001b[0;34m\u001b[0m\u001b[0m\n",
            "\u001b[0;32m/usr/local/lib/python3.6/dist-packages/pandas/io/parsers.py\u001b[0m in \u001b[0;36m_make_engine\u001b[0;34m(self, engine)\u001b[0m\n\u001b[1;32m   1178\u001b[0m     \u001b[0;32mdef\u001b[0m \u001b[0m_make_engine\u001b[0m\u001b[0;34m(\u001b[0m\u001b[0mself\u001b[0m\u001b[0;34m,\u001b[0m \u001b[0mengine\u001b[0m\u001b[0;34m=\u001b[0m\u001b[0;34m\"c\"\u001b[0m\u001b[0;34m)\u001b[0m\u001b[0;34m:\u001b[0m\u001b[0;34m\u001b[0m\u001b[0;34m\u001b[0m\u001b[0m\n\u001b[1;32m   1179\u001b[0m         \u001b[0;32mif\u001b[0m \u001b[0mengine\u001b[0m \u001b[0;34m==\u001b[0m \u001b[0;34m\"c\"\u001b[0m\u001b[0;34m:\u001b[0m\u001b[0;34m\u001b[0m\u001b[0;34m\u001b[0m\u001b[0m\n\u001b[0;32m-> 1180\u001b[0;31m             \u001b[0mself\u001b[0m\u001b[0;34m.\u001b[0m\u001b[0m_engine\u001b[0m \u001b[0;34m=\u001b[0m \u001b[0mCParserWrapper\u001b[0m\u001b[0;34m(\u001b[0m\u001b[0mself\u001b[0m\u001b[0;34m.\u001b[0m\u001b[0mf\u001b[0m\u001b[0;34m,\u001b[0m \u001b[0;34m**\u001b[0m\u001b[0mself\u001b[0m\u001b[0;34m.\u001b[0m\u001b[0moptions\u001b[0m\u001b[0;34m)\u001b[0m\u001b[0;34m\u001b[0m\u001b[0;34m\u001b[0m\u001b[0m\n\u001b[0m\u001b[1;32m   1181\u001b[0m         \u001b[0;32melse\u001b[0m\u001b[0;34m:\u001b[0m\u001b[0;34m\u001b[0m\u001b[0;34m\u001b[0m\u001b[0m\n\u001b[1;32m   1182\u001b[0m             \u001b[0;32mif\u001b[0m \u001b[0mengine\u001b[0m \u001b[0;34m==\u001b[0m \u001b[0;34m\"python\"\u001b[0m\u001b[0;34m:\u001b[0m\u001b[0;34m\u001b[0m\u001b[0;34m\u001b[0m\u001b[0m\n",
            "\u001b[0;32m/usr/local/lib/python3.6/dist-packages/pandas/io/parsers.py\u001b[0m in \u001b[0;36m__init__\u001b[0;34m(self, src, **kwds)\u001b[0m\n\u001b[1;32m   2008\u001b[0m         \u001b[0mkwds\u001b[0m\u001b[0;34m[\u001b[0m\u001b[0;34m\"usecols\"\u001b[0m\u001b[0;34m]\u001b[0m \u001b[0;34m=\u001b[0m \u001b[0mself\u001b[0m\u001b[0;34m.\u001b[0m\u001b[0musecols\u001b[0m\u001b[0;34m\u001b[0m\u001b[0;34m\u001b[0m\u001b[0m\n\u001b[1;32m   2009\u001b[0m \u001b[0;34m\u001b[0m\u001b[0m\n\u001b[0;32m-> 2010\u001b[0;31m         \u001b[0mself\u001b[0m\u001b[0;34m.\u001b[0m\u001b[0m_reader\u001b[0m \u001b[0;34m=\u001b[0m \u001b[0mparsers\u001b[0m\u001b[0;34m.\u001b[0m\u001b[0mTextReader\u001b[0m\u001b[0;34m(\u001b[0m\u001b[0msrc\u001b[0m\u001b[0;34m,\u001b[0m \u001b[0;34m**\u001b[0m\u001b[0mkwds\u001b[0m\u001b[0;34m)\u001b[0m\u001b[0;34m\u001b[0m\u001b[0;34m\u001b[0m\u001b[0m\n\u001b[0m\u001b[1;32m   2011\u001b[0m         \u001b[0mself\u001b[0m\u001b[0;34m.\u001b[0m\u001b[0munnamed_cols\u001b[0m \u001b[0;34m=\u001b[0m \u001b[0mself\u001b[0m\u001b[0;34m.\u001b[0m\u001b[0m_reader\u001b[0m\u001b[0;34m.\u001b[0m\u001b[0munnamed_cols\u001b[0m\u001b[0;34m\u001b[0m\u001b[0;34m\u001b[0m\u001b[0m\n\u001b[1;32m   2012\u001b[0m \u001b[0;34m\u001b[0m\u001b[0m\n",
            "\u001b[0;32mpandas/_libs/parsers.pyx\u001b[0m in \u001b[0;36mpandas._libs.parsers.TextReader.__cinit__\u001b[0;34m()\u001b[0m\n",
            "\u001b[0;32mpandas/_libs/parsers.pyx\u001b[0m in \u001b[0;36mpandas._libs.parsers.TextReader._setup_parser_source\u001b[0;34m()\u001b[0m\n",
            "\u001b[0;31mFileNotFoundError\u001b[0m: [Errno 2] No such file or directory: 'featureSelection.csv'"
          ]
        }
      ]
    },
    {
      "cell_type": "code",
      "metadata": {
        "id": "OJ5-r_wXWl8s"
      },
      "source": [
        "StepBackward.subsets_\n",
        "\n"
      ],
      "execution_count": null,
      "outputs": []
    },
    {
      "cell_type": "code",
      "metadata": {
        "id": "5Hcjxg76XDsu"
      },
      "source": [
        "StepBackward.k_feature_names_"
      ],
      "execution_count": null,
      "outputs": []
    },
    {
      "cell_type": "code",
      "metadata": {
        "id": "5xD5-zIDXGND"
      },
      "source": [
        "StepBackward.k_score_"
      ],
      "execution_count": null,
      "outputs": []
    },
    {
      "cell_type": "code",
      "metadata": {
        "id": "8TfKtGziXamI"
      },
      "source": [
        "data = pd.read_csv('deam/featureTrain.csv')\n",
        "best_features = data[[\"energy_mean\",\"energy_entropy_mean\",\"spectral_rolloff_mean\",\"mfcc_1_mean\",\"mfcc_2_mean\",\"mfcc_4_mean\",\"chroma_2_mean\",\"chroma_4_mean\",\"chroma_9_mean\",\"delta energy_entropy_mean\",\"delta spectral_centroid_mean\",\"delta spectral_flux_mean\",\"delta mfcc_11_mean\",\"delta chroma_1_mean\",\"delta chroma_4_mean\",\"delta chroma_7_mean\",\"delta chroma_11_mean\",\"spectral_centroid_std\",\"mfcc_2_std\",\"mfcc_5_std\",\"mfcc_10_std\",\"mfcc_12_std\",\"chroma_8_std\",\"chroma_9_std\",\"chroma_10_std\",\"chroma_11_std\",\"delta spectral_centroid_std\",\"delta spectral_entropy_std\",\"delta mfcc_13_std\",\"delta chroma_1_std\",\"delta chroma_2_std\",\"delta chroma_3_std\",\"delta chroma_7_std\",\"delta chroma_8_std\",\"delta chroma_12_std\",\"Label\"]]\n",
        "\n",
        "best_features.to_csv('bestFeatures.csv', index = False)\n"
      ],
      "execution_count": null,
      "outputs": []
    },
    {
      "cell_type": "markdown",
      "metadata": {
        "id": "ww3rP4ClIxms"
      },
      "source": [
        "**SVM**"
      ]
    },
    {
      "cell_type": "code",
      "metadata": {
        "colab": {
          "base_uri": "https://localhost:8080/",
          "height": 377
        },
        "id": "xt_AogzPA5xa",
        "outputId": "d71c6c6e-70bd-45ac-ea74-5bbd14637cbc"
      },
      "source": [
        "data = pd.read_csv('bestFeatures.csv')\n",
        "\n",
        "training_set, test_set = train_test_split(data, test_size = 0.2)\n",
        "\n",
        "X_train = training_set.iloc[:, [0,34]].values\n",
        "y_train = training_set.iloc[:,35].values\n",
        "X_test = test_set.iloc[:, [0,34]].values\n",
        "y_test = test_set.iloc[:,35].values\n",
        "\n",
        "smote = SMOTE()\n",
        "X_train, y_train = smote.fit_sample(X_train, y_train)\n",
        "#X_test, y_test = smote.fit_sample(X_test, y_test)\n",
        "\n",
        "from sklearn.svm import SVC\n",
        "classifier = SVC(kernel='rbf') #Kernels: linear, poly, sigmoid, rbf\n",
        "classifier.fit(X_train,y_train)\n",
        "\n",
        "y_pred = classifier.predict(X_test)\n",
        "\n",
        "from sklearn.metrics import confusion_matrix, classification_report, accuracy_score\n",
        "\n",
        "print(\"Normal\")\n",
        "print(confusion_matrix(y_test,y_pred))\n",
        "print(classification_report(y_test,y_pred))\n",
        "print(accuracy_score(y_test, y_pred))\n",
        "\n",
        "# Create confusion matrix\n",
        "pd.crosstab(y_test, y_pred, rownames=['Actual'], colnames=['Predicted'])"
      ],
      "execution_count": null,
      "outputs": [
        {
          "output_type": "stream",
          "text": [
            "Normal\n",
            "[[ 91  51]\n",
            " [ 78 129]]\n",
            "              precision    recall  f1-score   support\n",
            "\n",
            "           0       0.54      0.64      0.59       142\n",
            "           1       0.72      0.62      0.67       207\n",
            "\n",
            "    accuracy                           0.63       349\n",
            "   macro avg       0.63      0.63      0.63       349\n",
            "weighted avg       0.64      0.63      0.63       349\n",
            "\n",
            "0.6303724928366762\n"
          ],
          "name": "stdout"
        },
        {
          "output_type": "stream",
          "text": [
            "/usr/local/lib/python3.6/dist-packages/sklearn/utils/deprecation.py:87: FutureWarning: Function safe_indexing is deprecated; safe_indexing is deprecated in version 0.22 and will be removed in version 0.24.\n",
            "  warnings.warn(msg, category=FutureWarning)\n"
          ],
          "name": "stderr"
        },
        {
          "output_type": "execute_result",
          "data": {
            "text/html": [
              "<div>\n",
              "<style scoped>\n",
              "    .dataframe tbody tr th:only-of-type {\n",
              "        vertical-align: middle;\n",
              "    }\n",
              "\n",
              "    .dataframe tbody tr th {\n",
              "        vertical-align: top;\n",
              "    }\n",
              "\n",
              "    .dataframe thead th {\n",
              "        text-align: right;\n",
              "    }\n",
              "</style>\n",
              "<table border=\"1\" class=\"dataframe\">\n",
              "  <thead>\n",
              "    <tr style=\"text-align: right;\">\n",
              "      <th>Predicted</th>\n",
              "      <th>0</th>\n",
              "      <th>1</th>\n",
              "    </tr>\n",
              "    <tr>\n",
              "      <th>Actual</th>\n",
              "      <th></th>\n",
              "      <th></th>\n",
              "    </tr>\n",
              "  </thead>\n",
              "  <tbody>\n",
              "    <tr>\n",
              "      <th>0</th>\n",
              "      <td>91</td>\n",
              "      <td>51</td>\n",
              "    </tr>\n",
              "    <tr>\n",
              "      <th>1</th>\n",
              "      <td>78</td>\n",
              "      <td>129</td>\n",
              "    </tr>\n",
              "  </tbody>\n",
              "</table>\n",
              "</div>"
            ],
            "text/plain": [
              "Predicted   0    1\n",
              "Actual            \n",
              "0          91   51\n",
              "1          78  129"
            ]
          },
          "metadata": {
            "tags": []
          },
          "execution_count": 105
        }
      ]
    },
    {
      "cell_type": "markdown",
      "metadata": {
        "id": "1ms2TeX3JhWD"
      },
      "source": [
        "**KNN**"
      ]
    },
    {
      "cell_type": "code",
      "metadata": {
        "colab": {
          "base_uri": "https://localhost:8080/",
          "height": 361
        },
        "id": "YRdXSavyI-C7",
        "outputId": "ff5fa25c-9d2f-4657-a106-97e54fc82301"
      },
      "source": [
        "dataset = pd.read_csv('bestFeatures.csv')\n",
        "\n",
        "training_set, test_set = train_test_split(dataset, test_size = 0.2)\n",
        "\n",
        "X_train = training_set.iloc[:, [0,34]].values\n",
        "y_train = training_set.iloc[:,35].values\n",
        "X_test = test_set.iloc[:, [0,34]].values\n",
        "y_test = test_set.iloc[:,35].values\n",
        "\n",
        "smote = SMOTE()\n",
        "X_train, y_train = smote.fit_sample(X_train, y_train)\n",
        "#X_test, y_test = smote.fit_sample(X_test, y_test)\n",
        "\n",
        "from sklearn.neighbors import KNeighborsClassifier\n",
        "classifier = KNeighborsClassifier(n_neighbors = 17)#17\n",
        "classifier.fit(X_train, y_train)\n",
        "\n",
        "# Predicting the Test set results\n",
        "y_pred = classifier.predict(X_test)\n",
        "\n",
        "print(accuracy_score(y_test, y_pred))\n",
        "print(confusion_matrix(y_test,y_pred))\n",
        "print(classification_report(y_test,y_pred))\n",
        "\n",
        "# Create confusion matrix\n",
        "pd.crosstab(y_test, y_pred, rownames=['Actual'], colnames=['Predicted'])"
      ],
      "execution_count": null,
      "outputs": [
        {
          "output_type": "stream",
          "text": [
            "0.6418338108882522\n",
            "[[ 94  53]\n",
            " [ 72 130]]\n",
            "              precision    recall  f1-score   support\n",
            "\n",
            "           0       0.57      0.64      0.60       147\n",
            "           1       0.71      0.64      0.68       202\n",
            "\n",
            "    accuracy                           0.64       349\n",
            "   macro avg       0.64      0.64      0.64       349\n",
            "weighted avg       0.65      0.64      0.64       349\n",
            "\n"
          ],
          "name": "stdout"
        },
        {
          "output_type": "stream",
          "text": [
            "/usr/local/lib/python3.6/dist-packages/sklearn/utils/deprecation.py:87: FutureWarning: Function safe_indexing is deprecated; safe_indexing is deprecated in version 0.22 and will be removed in version 0.24.\n",
            "  warnings.warn(msg, category=FutureWarning)\n"
          ],
          "name": "stderr"
        },
        {
          "output_type": "execute_result",
          "data": {
            "text/html": [
              "<div>\n",
              "<style scoped>\n",
              "    .dataframe tbody tr th:only-of-type {\n",
              "        vertical-align: middle;\n",
              "    }\n",
              "\n",
              "    .dataframe tbody tr th {\n",
              "        vertical-align: top;\n",
              "    }\n",
              "\n",
              "    .dataframe thead th {\n",
              "        text-align: right;\n",
              "    }\n",
              "</style>\n",
              "<table border=\"1\" class=\"dataframe\">\n",
              "  <thead>\n",
              "    <tr style=\"text-align: right;\">\n",
              "      <th>Predicted</th>\n",
              "      <th>0</th>\n",
              "      <th>1</th>\n",
              "    </tr>\n",
              "    <tr>\n",
              "      <th>Actual</th>\n",
              "      <th></th>\n",
              "      <th></th>\n",
              "    </tr>\n",
              "  </thead>\n",
              "  <tbody>\n",
              "    <tr>\n",
              "      <th>0</th>\n",
              "      <td>94</td>\n",
              "      <td>53</td>\n",
              "    </tr>\n",
              "    <tr>\n",
              "      <th>1</th>\n",
              "      <td>72</td>\n",
              "      <td>130</td>\n",
              "    </tr>\n",
              "  </tbody>\n",
              "</table>\n",
              "</div>"
            ],
            "text/plain": [
              "Predicted   0    1\n",
              "Actual            \n",
              "0          94   53\n",
              "1          72  130"
            ]
          },
          "metadata": {
            "tags": []
          },
          "execution_count": 116
        }
      ]
    },
    {
      "cell_type": "markdown",
      "metadata": {
        "id": "BpXKUF6AcEvU"
      },
      "source": [
        "**Random Forest Reggression**"
      ]
    },
    {
      "cell_type": "code",
      "metadata": {
        "colab": {
          "base_uri": "https://localhost:8080/"
        },
        "id": "6daY2HIlcKvY",
        "outputId": "222b5674-c4b1-4475-c88c-0e915b791979"
      },
      "source": [
        "dataset = pd.read_csv('bestFeatures.csv')\n",
        "\n",
        "training_set, test_set = train_test_split(dataset, test_size = 0.2, random_state = 1)\n",
        "\n",
        "X_train = training_set.iloc[:, [0,34]].values\n",
        "y_train = training_set.iloc[:,35].values\n",
        "X_test = test_set.iloc[:, [0,34]].values\n",
        "y_test = test_set.iloc[:,35].values\n",
        "\n",
        "\n",
        "sc = StandardScaler()\n",
        "X_train = sc.fit_transform(X_train)\n",
        "X_test = sc.transform(X_test)\n",
        "\n",
        "from sklearn.ensemble import RandomForestRegressor\n",
        "\n",
        "regressor = RandomForestRegressor(n_estimators=10, random_state=1)\n",
        "regressor.fit(X_train, y_train)\n",
        "y_pred = regressor.predict(X_test)\n",
        "\n",
        "print('Mean Absolute Error:', metrics.mean_absolute_error(y_test, y_pred))\n",
        "print('Mean Squared Error:', metrics.mean_squared_error(y_test, y_pred))\n",
        "print('Root Mean Squared Error:', np.sqrt(metrics.mean_squared_error(y_test, y_pred)))"
      ],
      "execution_count": null,
      "outputs": [
        {
          "output_type": "stream",
          "text": [
            "Mean Absolute Error: 0.4151862464183381\n",
            "Mean Squared Error: 0.26151862464183384\n",
            "Root Mean Squared Error: 0.5113889172066929\n"
          ],
          "name": "stdout"
        }
      ]
    },
    {
      "cell_type": "markdown",
      "metadata": {
        "id": "aj_mFBehMWJg"
      },
      "source": [
        "**Random Forest**"
      ]
    },
    {
      "cell_type": "code",
      "metadata": {
        "colab": {
          "base_uri": "https://localhost:8080/",
          "height": 361
        },
        "id": "-And32KRMcTU",
        "outputId": "2f8dc1ee-65ca-4877-df00-02c1a68e3b4c"
      },
      "source": [
        "dataset = pd.read_csv('bestFeatures.csv')\n",
        "training_set, test_set = train_test_split(dataset, test_size = 0.2, random_state = 1)\n",
        "\n",
        "X_train = training_set.iloc[:, [0,34]].values\n",
        "y_train = training_set.iloc[:,35].values\n",
        "X_test = test_set.iloc[:, [0,34]].values\n",
        "y_test = test_set.iloc[:,35].values\n",
        "\n",
        "sc = StandardScaler()\n",
        "X_train = sc.fit_transform(X_train)\n",
        "X_test = sc.transform(X_test)\n",
        "\n",
        "smote = SMOTE()\n",
        "X_train, y_train = smote.fit_sample(X_train, y_train)\n",
        "#X_test, y_test = smote.fit_sample(X_test, y_test)\n",
        "\n",
        "\n",
        "from sklearn.ensemble import RandomForestClassifier\n",
        "classifier = RandomForestClassifier(n_estimators=20, n_jobs = 7)\n",
        "classifier.fit(X_train, y_train)\n",
        "y_pred = classifier.predict(X_test)\n",
        "\n",
        "print(accuracy_score(y_test, y_pred))\n",
        "print(confusion_matrix(y_test,y_pred))\n",
        "print(classification_report(y_test,y_pred))\n",
        "\n",
        "\n",
        "# Create confusion matrix\n",
        "pd.crosstab(y_test, y_pred, rownames=['Actual'], colnames=['Predicted'])"
      ],
      "execution_count": null,
      "outputs": [
        {
          "output_type": "stream",
          "text": [
            "/usr/local/lib/python3.6/dist-packages/sklearn/utils/deprecation.py:87: FutureWarning: Function safe_indexing is deprecated; safe_indexing is deprecated in version 0.22 and will be removed in version 0.24.\n",
            "  warnings.warn(msg, category=FutureWarning)\n"
          ],
          "name": "stderr"
        },
        {
          "output_type": "stream",
          "text": [
            "0.6217765042979942\n",
            "[[ 84  55]\n",
            " [ 77 133]]\n",
            "              precision    recall  f1-score   support\n",
            "\n",
            "           0       0.52      0.60      0.56       139\n",
            "           1       0.71      0.63      0.67       210\n",
            "\n",
            "    accuracy                           0.62       349\n",
            "   macro avg       0.61      0.62      0.61       349\n",
            "weighted avg       0.63      0.62      0.63       349\n",
            "\n"
          ],
          "name": "stdout"
        },
        {
          "output_type": "execute_result",
          "data": {
            "text/html": [
              "<div>\n",
              "<style scoped>\n",
              "    .dataframe tbody tr th:only-of-type {\n",
              "        vertical-align: middle;\n",
              "    }\n",
              "\n",
              "    .dataframe tbody tr th {\n",
              "        vertical-align: top;\n",
              "    }\n",
              "\n",
              "    .dataframe thead th {\n",
              "        text-align: right;\n",
              "    }\n",
              "</style>\n",
              "<table border=\"1\" class=\"dataframe\">\n",
              "  <thead>\n",
              "    <tr style=\"text-align: right;\">\n",
              "      <th>Predicted</th>\n",
              "      <th>0</th>\n",
              "      <th>1</th>\n",
              "    </tr>\n",
              "    <tr>\n",
              "      <th>Actual</th>\n",
              "      <th></th>\n",
              "      <th></th>\n",
              "    </tr>\n",
              "  </thead>\n",
              "  <tbody>\n",
              "    <tr>\n",
              "      <th>0</th>\n",
              "      <td>84</td>\n",
              "      <td>55</td>\n",
              "    </tr>\n",
              "    <tr>\n",
              "      <th>1</th>\n",
              "      <td>77</td>\n",
              "      <td>133</td>\n",
              "    </tr>\n",
              "  </tbody>\n",
              "</table>\n",
              "</div>"
            ],
            "text/plain": [
              "Predicted   0    1\n",
              "Actual            \n",
              "0          84   55\n",
              "1          77  133"
            ]
          },
          "metadata": {
            "tags": []
          },
          "execution_count": 122
        }
      ]
    },
    {
      "cell_type": "markdown",
      "metadata": {
        "id": "KQKtG5d2RnVj"
      },
      "source": [
        "**MLP Reggression**"
      ]
    },
    {
      "cell_type": "code",
      "metadata": {
        "colab": {
          "base_uri": "https://localhost:8080/"
        },
        "id": "XqQDKs0bRmvA",
        "outputId": "4aea20e6-743e-4654-e91a-0c281bb8afbb"
      },
      "source": [
        "dataset = pd.read_csv('bestFeatures.csv')\n",
        "training_set, test_set = train_test_split(dataset, test_size = 0.2, random_state = 1)\n",
        "\n",
        "X_train = training_set.iloc[:, [0,34]].values\n",
        "y_train = training_set.iloc[:,35].values\n",
        "X_test = test_set.iloc[:, [0,34]].values\n",
        "y_test = test_set.iloc[:,35].values\n",
        "\n",
        "sc = StandardScaler()\n",
        "X_train = sc.fit_transform(X_train)\n",
        "X_test = sc.transform(X_test)\n",
        "\n",
        "from sklearn.neural_network import MLPRegressor\n",
        "reg = MLPRegressor(hidden_layer_sizes=(64,64,64),activation=\"relu\" ,random_state=1, max_iter=2000).fit(X_train, y_train)\n",
        "y_pred=reg.predict(X_test)\n",
        "from sklearn.metrics import r2_score\n",
        "print(\"The Score with \" + str((r2_score(y_pred, y_test))))"
      ],
      "execution_count": null,
      "outputs": [
        {
          "output_type": "stream",
          "text": [
            "The Score with -4.778001891672382\n"
          ],
          "name": "stdout"
        }
      ]
    },
    {
      "cell_type": "markdown",
      "metadata": {
        "id": "v-7bWMwOQax3"
      },
      "source": [
        "**MLP Classification**"
      ]
    },
    {
      "cell_type": "code",
      "metadata": {
        "id": "dyKj7oNtQe-o",
        "colab": {
          "base_uri": "https://localhost:8080/",
          "height": 328
        },
        "outputId": "0991e131-2b9b-4eb7-9b29-91a0d7a8ac4d"
      },
      "source": [
        "dataset = pd.read_csv('bestFeatures.csv')\n",
        "training_set, test_set = train_test_split(dataset, test_size = 0.2,random_state=1)\n",
        "\n",
        "X_train = training_set.iloc[:, [0,34]].values\n",
        "y_train = training_set.iloc[:,35].values\n",
        "X_test = test_set.iloc[:, [0,34]].values\n",
        "y_test = test_set.iloc[:,35].values\n",
        "\n",
        "sc = StandardScaler()\n",
        "X_train = sc.fit_transform(X_train)\n",
        "X_test = sc.transform(X_test)\n",
        "\n",
        "\n",
        "#smote = SMOTE()\n",
        "#X_train, y_train = smote.fit_sample(X_train, y_train)\n",
        "#X_test, y_test = smote.fit_sample(X_test, y_test)\n",
        "\n",
        "from sklearn.neural_network import MLPClassifier\n",
        "\n",
        "classifier = MLPClassifier(hidden_layer_sizes=(256,128,64,32),activation=\"relu\",random_state=1).fit(X_train, y_train)\n",
        "y_pred = classifier.predict(X_test)\n",
        "\n",
        "from sklearn.metrics import confusion_matrix, classification_report, accuracy_score\n",
        "\n",
        "print(confusion_matrix(y_test,y_pred))\n",
        "print(classification_report(y_test,y_pred))\n",
        "print(accuracy_score(y_test, y_pred))\n",
        "\n",
        "# Create confusion matrix\n",
        "pd.crosstab(y_test, y_pred, rownames=['Actual'], colnames=['Predicted'])"
      ],
      "execution_count": null,
      "outputs": [
        {
          "output_type": "stream",
          "text": [
            "[[ 63  76]\n",
            " [ 27 183]]\n",
            "              precision    recall  f1-score   support\n",
            "\n",
            "           0       0.70      0.45      0.55       139\n",
            "           1       0.71      0.87      0.78       210\n",
            "\n",
            "    accuracy                           0.70       349\n",
            "   macro avg       0.70      0.66      0.67       349\n",
            "weighted avg       0.70      0.70      0.69       349\n",
            "\n",
            "0.7048710601719198\n"
          ],
          "name": "stdout"
        },
        {
          "output_type": "execute_result",
          "data": {
            "text/html": [
              "<div>\n",
              "<style scoped>\n",
              "    .dataframe tbody tr th:only-of-type {\n",
              "        vertical-align: middle;\n",
              "    }\n",
              "\n",
              "    .dataframe tbody tr th {\n",
              "        vertical-align: top;\n",
              "    }\n",
              "\n",
              "    .dataframe thead th {\n",
              "        text-align: right;\n",
              "    }\n",
              "</style>\n",
              "<table border=\"1\" class=\"dataframe\">\n",
              "  <thead>\n",
              "    <tr style=\"text-align: right;\">\n",
              "      <th>Predicted</th>\n",
              "      <th>0</th>\n",
              "      <th>1</th>\n",
              "    </tr>\n",
              "    <tr>\n",
              "      <th>Actual</th>\n",
              "      <th></th>\n",
              "      <th></th>\n",
              "    </tr>\n",
              "  </thead>\n",
              "  <tbody>\n",
              "    <tr>\n",
              "      <th>0</th>\n",
              "      <td>63</td>\n",
              "      <td>76</td>\n",
              "    </tr>\n",
              "    <tr>\n",
              "      <th>1</th>\n",
              "      <td>27</td>\n",
              "      <td>183</td>\n",
              "    </tr>\n",
              "  </tbody>\n",
              "</table>\n",
              "</div>"
            ],
            "text/plain": [
              "Predicted   0    1\n",
              "Actual            \n",
              "0          63   76\n",
              "1          27  183"
            ]
          },
          "metadata": {
            "tags": []
          },
          "execution_count": 132
        }
      ]
    },
    {
      "cell_type": "markdown",
      "metadata": {
        "id": "vrZf4HlA5PtF"
      },
      "source": [
        "**Naive Bayes**"
      ]
    },
    {
      "cell_type": "code",
      "metadata": {
        "colab": {
          "base_uri": "https://localhost:8080/",
          "height": 361
        },
        "id": "Mv2G2By85SWh",
        "outputId": "abe02e76-3484-4a5f-ff9f-ebd5b5c89191"
      },
      "source": [
        "from sklearn.naive_bayes import GaussianNB\r\n",
        "dataset = pd.read_csv('bestFeatures.csv')\r\n",
        "\r\n",
        "training_set, test_set = train_test_split(dataset, test_size = 0.2)\r\n",
        "\r\n",
        "X_train = training_set.iloc[:, [0,34]].values\r\n",
        "y_train = training_set.iloc[:,35].values\r\n",
        "X_test = test_set.iloc[:, [0,34]].values\r\n",
        "y_test = test_set.iloc[:,35].values\r\n",
        "\r\n",
        "smote = SMOTE()\r\n",
        "X_train, y_train = smote.fit_sample(X_train, y_train)\r\n",
        "\r\n",
        "classifier = GaussianNB()\r\n",
        "#_pred = classifier.fit(X_train, y_train).predict(X_test)\r\n",
        "classifier.fit(X_train, y_train)\r\n",
        "y_pred = classifier.predict(X_test)\r\n",
        "\r\n",
        "from sklearn.metrics import confusion_matrix, classification_report, accuracy_score\r\n",
        "\r\n",
        "print(confusion_matrix(y_test,y_pred))\r\n",
        "print(classification_report(y_test,y_pred))\r\n",
        "print(accuracy_score(y_test, y_pred))\r\n",
        "\r\n",
        "\r\n",
        "# Create confusion matrix\r\n",
        "pd.crosstab(y_test, y_pred, rownames=['Actual'], colnames=['Predicted'])"
      ],
      "execution_count": null,
      "outputs": [
        {
          "output_type": "stream",
          "text": [
            "[[ 99  47]\n",
            " [ 88 115]]\n",
            "              precision    recall  f1-score   support\n",
            "\n",
            "           0       0.53      0.68      0.59       146\n",
            "           1       0.71      0.57      0.63       203\n",
            "\n",
            "    accuracy                           0.61       349\n",
            "   macro avg       0.62      0.62      0.61       349\n",
            "weighted avg       0.63      0.61      0.62       349\n",
            "\n",
            "0.6131805157593123\n"
          ],
          "name": "stdout"
        },
        {
          "output_type": "stream",
          "text": [
            "/usr/local/lib/python3.6/dist-packages/sklearn/utils/deprecation.py:87: FutureWarning: Function safe_indexing is deprecated; safe_indexing is deprecated in version 0.22 and will be removed in version 0.24.\n",
            "  warnings.warn(msg, category=FutureWarning)\n"
          ],
          "name": "stderr"
        },
        {
          "output_type": "execute_result",
          "data": {
            "text/html": [
              "<div>\n",
              "<style scoped>\n",
              "    .dataframe tbody tr th:only-of-type {\n",
              "        vertical-align: middle;\n",
              "    }\n",
              "\n",
              "    .dataframe tbody tr th {\n",
              "        vertical-align: top;\n",
              "    }\n",
              "\n",
              "    .dataframe thead th {\n",
              "        text-align: right;\n",
              "    }\n",
              "</style>\n",
              "<table border=\"1\" class=\"dataframe\">\n",
              "  <thead>\n",
              "    <tr style=\"text-align: right;\">\n",
              "      <th>Predicted</th>\n",
              "      <th>0</th>\n",
              "      <th>1</th>\n",
              "    </tr>\n",
              "    <tr>\n",
              "      <th>Actual</th>\n",
              "      <th></th>\n",
              "      <th></th>\n",
              "    </tr>\n",
              "  </thead>\n",
              "  <tbody>\n",
              "    <tr>\n",
              "      <th>0</th>\n",
              "      <td>99</td>\n",
              "      <td>47</td>\n",
              "    </tr>\n",
              "    <tr>\n",
              "      <th>1</th>\n",
              "      <td>88</td>\n",
              "      <td>115</td>\n",
              "    </tr>\n",
              "  </tbody>\n",
              "</table>\n",
              "</div>"
            ],
            "text/plain": [
              "Predicted   0    1\n",
              "Actual            \n",
              "0          99   47\n",
              "1          88  115"
            ]
          },
          "metadata": {
            "tags": []
          },
          "execution_count": 133
        }
      ]
    }
  ]
}